{
  "nbformat": 4,
  "nbformat_minor": 0,
  "metadata": {
    "colab": {
      "provenance": [],
      "toc_visible": true
    },
    "kernelspec": {
      "name": "python3",
      "display_name": "Python 3"
    },
    "language_info": {
      "name": "python"
    }
  },
  "cells": [
    {
      "cell_type": "markdown",
      "source": [
        "1.read the data with pandas and find features and target variables\n",
        "2.Normalize the data with min-max scaling\n",
        "3.Split the data into train and test.\n"
      ],
      "metadata": {
        "id": "BDA6rYHfZbWt"
      }
    },
    {
      "cell_type": "code",
      "source": [
        "import pandas as pd\n",
        "\n",
        "data=pd.read_csv(\"/content/train.csv\")\n",
        "print(data)"
      ],
      "metadata": {
        "id": "dcVyypyTZde5",
        "colab": {
          "base_uri": "https://localhost:8080/"
        },
        "outputId": "5b168095-d490-42b9-8738-eaf940585422"
      },
      "execution_count": null,
      "outputs": [
        {
          "output_type": "stream",
          "name": "stdout",
          "text": [
            "      battery_power  blue  clock_speed  dual_sim  fc  four_g  int_memory  \\\n",
            "0               842     0          2.2         0   1       0           7   \n",
            "1              1021     1          0.5         1   0       1          53   \n",
            "2               563     1          0.5         1   2       1          41   \n",
            "3               615     1          2.5         0   0       0          10   \n",
            "4              1821     1          1.2         0  13       1          44   \n",
            "...             ...   ...          ...       ...  ..     ...         ...   \n",
            "1995            794     1          0.5         1   0       1           2   \n",
            "1996           1965     1          2.6         1   0       0          39   \n",
            "1997           1911     0          0.9         1   1       1          36   \n",
            "1998           1512     0          0.9         0   4       1          46   \n",
            "1999            510     1          2.0         1   5       1          45   \n",
            "\n",
            "      m_dep  mobile_wt  n_cores  ...  px_height  px_width   ram  sc_h  sc_w  \\\n",
            "0       0.6        188        2  ...         20       756  2549     9     7   \n",
            "1       0.7        136        3  ...        905      1988  2631    17     3   \n",
            "2       0.9        145        5  ...       1263      1716  2603    11     2   \n",
            "3       0.8        131        6  ...       1216      1786  2769    16     8   \n",
            "4       0.6        141        2  ...       1208      1212  1411     8     2   \n",
            "...     ...        ...      ...  ...        ...       ...   ...   ...   ...   \n",
            "1995    0.8        106        6  ...       1222      1890   668    13     4   \n",
            "1996    0.2        187        4  ...        915      1965  2032    11    10   \n",
            "1997    0.7        108        8  ...        868      1632  3057     9     1   \n",
            "1998    0.1        145        5  ...        336       670   869    18    10   \n",
            "1999    0.9        168        6  ...        483       754  3919    19     4   \n",
            "\n",
            "      talk_time  three_g  touch_screen  wifi  price_range  \n",
            "0            19        0             0     1            1  \n",
            "1             7        1             1     0            2  \n",
            "2             9        1             1     0            2  \n",
            "3            11        1             0     0            2  \n",
            "4            15        1             1     0            1  \n",
            "...         ...      ...           ...   ...          ...  \n",
            "1995         19        1             1     0            0  \n",
            "1996         16        1             1     1            2  \n",
            "1997          5        1             1     0            3  \n",
            "1998         19        1             1     1            0  \n",
            "1999          2        1             1     1            3  \n",
            "\n",
            "[2000 rows x 21 columns]\n"
          ]
        }
      ]
    },
    {
      "cell_type": "markdown",
      "source": [],
      "metadata": {
        "id": "FmQcaR0NeDZZ"
      }
    },
    {
      "cell_type": "code",
      "source": [
        "y=data['price_range']\n",
        "y"
      ],
      "metadata": {
        "colab": {
          "base_uri": "https://localhost:8080/",
          "height": 453
        },
        "id": "1ORgOuJ5dBJl",
        "outputId": "5ab28ca8-def6-48f4-f6e2-f74b37280efb"
      },
      "execution_count": null,
      "outputs": [
        {
          "output_type": "execute_result",
          "data": {
            "text/plain": [
              "0       1\n",
              "1       2\n",
              "2       2\n",
              "3       2\n",
              "4       1\n",
              "       ..\n",
              "1995    0\n",
              "1996    2\n",
              "1997    3\n",
              "1998    0\n",
              "1999    3\n",
              "Name: price_range, Length: 2000, dtype: int64"
            ],
            "text/html": [
              "<div>\n",
              "<style scoped>\n",
              "    .dataframe tbody tr th:only-of-type {\n",
              "        vertical-align: middle;\n",
              "    }\n",
              "\n",
              "    .dataframe tbody tr th {\n",
              "        vertical-align: top;\n",
              "    }\n",
              "\n",
              "    .dataframe thead th {\n",
              "        text-align: right;\n",
              "    }\n",
              "</style>\n",
              "<table border=\"1\" class=\"dataframe\">\n",
              "  <thead>\n",
              "    <tr style=\"text-align: right;\">\n",
              "      <th></th>\n",
              "      <th>price_range</th>\n",
              "    </tr>\n",
              "  </thead>\n",
              "  <tbody>\n",
              "    <tr>\n",
              "      <th>0</th>\n",
              "      <td>1</td>\n",
              "    </tr>\n",
              "    <tr>\n",
              "      <th>1</th>\n",
              "      <td>2</td>\n",
              "    </tr>\n",
              "    <tr>\n",
              "      <th>2</th>\n",
              "      <td>2</td>\n",
              "    </tr>\n",
              "    <tr>\n",
              "      <th>3</th>\n",
              "      <td>2</td>\n",
              "    </tr>\n",
              "    <tr>\n",
              "      <th>4</th>\n",
              "      <td>1</td>\n",
              "    </tr>\n",
              "    <tr>\n",
              "      <th>...</th>\n",
              "      <td>...</td>\n",
              "    </tr>\n",
              "    <tr>\n",
              "      <th>1995</th>\n",
              "      <td>0</td>\n",
              "    </tr>\n",
              "    <tr>\n",
              "      <th>1996</th>\n",
              "      <td>2</td>\n",
              "    </tr>\n",
              "    <tr>\n",
              "      <th>1997</th>\n",
              "      <td>3</td>\n",
              "    </tr>\n",
              "    <tr>\n",
              "      <th>1998</th>\n",
              "      <td>0</td>\n",
              "    </tr>\n",
              "    <tr>\n",
              "      <th>1999</th>\n",
              "      <td>3</td>\n",
              "    </tr>\n",
              "  </tbody>\n",
              "</table>\n",
              "<p>2000 rows × 1 columns</p>\n",
              "</div><br><label><b>dtype:</b> int64</label>"
            ]
          },
          "metadata": {},
          "execution_count": 11
        }
      ]
    },
    {
      "cell_type": "code",
      "source": [
        "yf=y-y.min()/y-y.max()-y.min()\n",
        "print(yf)"
      ],
      "metadata": {
        "colab": {
          "base_uri": "https://localhost:8080/"
        },
        "id": "36a3f6pMeFdV",
        "outputId": "19bb6772-5d47-4f4a-e4cd-9469158cb042"
      },
      "execution_count": null,
      "outputs": [
        {
          "output_type": "stream",
          "name": "stdout",
          "text": [
            "0      -2.0\n",
            "1      -1.0\n",
            "2      -1.0\n",
            "3      -1.0\n",
            "4      -2.0\n",
            "       ... \n",
            "1995    NaN\n",
            "1996   -1.0\n",
            "1997    0.0\n",
            "1998    NaN\n",
            "1999    0.0\n",
            "Name: price_range, Length: 2000, dtype: float64\n"
          ]
        }
      ]
    },
    {
      "cell_type": "code",
      "source": [
        "from sklearn.model_selection import train_test_split\n",
        "x_train,x_test,y_train,y_test=train_test_split(data,yf,test_size=0.2,random_state=30)\n",
        "print(x_train)\n",
        "print(y_test)\n",
        "print(x_train)\n",
        "print(y_test)\n",
        "\n"
      ],
      "metadata": {
        "colab": {
          "base_uri": "https://localhost:8080/"
        },
        "id": "Crc0IwwwhyU4",
        "outputId": "a65e052e-8356-4da8-8599-bd1701ba3f3f"
      },
      "execution_count": null,
      "outputs": [
        {
          "output_type": "stream",
          "name": "stdout",
          "text": [
            "      battery_power  blue  clock_speed  dual_sim  fc  four_g  int_memory  \\\n",
            "1572            895     0          0.5         1   6       0          16   \n",
            "1442            973     0          0.5         1   5       0          53   \n",
            "1516           1081     1          1.9         1  13       1          42   \n",
            "259            1559     1          1.6         1   6       1           6   \n",
            "945             832     0          1.1         0   0       1          46   \n",
            "...             ...   ...          ...       ...  ..     ...         ...   \n",
            "500            1278     1          0.5         1   1       0          54   \n",
            "1837            983     0          0.6         1   0       1          45   \n",
            "941             743     0          0.5         1   0       1          33   \n",
            "421            1178     0          2.2         1   6       0          57   \n",
            "1829           1065     0          1.7         1   4       1          48   \n",
            "\n",
            "      m_dep  mobile_wt  n_cores  ...  px_height  px_width   ram  sc_h  sc_w  \\\n",
            "1572    0.3        164        8  ...        126      1575  3122     7     0   \n",
            "1442    0.5        196        5  ...        105       588  1861    13    10   \n",
            "1516    0.1        101        7  ...         83       816  2456     7     4   \n",
            "259     0.5        162        6  ...        179      1559  3352     9     1   \n",
            "945     0.3         93        6  ...        820      1366  3317     8     0   \n",
            "...     ...        ...      ...  ...        ...       ...   ...   ...   ...   \n",
            "500     0.1        104        8  ...        581       750  1155     7     1   \n",
            "1837    0.1        130        4  ...        948      1205  2052     5     3   \n",
            "941     0.3         95        2  ...       1587      1659   316    19    10   \n",
            "421     0.3         84        3  ...         96      1352  2492    16    14   \n",
            "1829    0.3        162        6  ...       1188      1948   265     8     0   \n",
            "\n",
            "      talk_time  three_g  touch_screen  wifi  price_range  \n",
            "1572          4        0             0     1            2  \n",
            "1442         16        0             1     0            1  \n",
            "1516          7        1             0     0            1  \n",
            "259           3        1             1     1            3  \n",
            "945          19        1             1     0            3  \n",
            "...         ...      ...           ...   ...          ...  \n",
            "500          20        0             0     1            0  \n",
            "1837          6        1             0     1            1  \n",
            "941           4        1             0     0            0  \n",
            "421          10        1             1     0            2  \n",
            "1829         12        1             0     0            0  \n",
            "\n",
            "[1600 rows x 21 columns]\n",
            "1856    0.0\n",
            "364     NaN\n",
            "1948   -2.0\n",
            "1458   -2.0\n",
            "609    -1.0\n",
            "       ... \n",
            "1163   -1.0\n",
            "572     0.0\n",
            "1105    NaN\n",
            "1903   -1.0\n",
            "481     0.0\n",
            "Name: price_range, Length: 400, dtype: float64\n",
            "      battery_power  blue  clock_speed  dual_sim  fc  four_g  int_memory  \\\n",
            "1572            895     0          0.5         1   6       0          16   \n",
            "1442            973     0          0.5         1   5       0          53   \n",
            "1516           1081     1          1.9         1  13       1          42   \n",
            "259            1559     1          1.6         1   6       1           6   \n",
            "945             832     0          1.1         0   0       1          46   \n",
            "...             ...   ...          ...       ...  ..     ...         ...   \n",
            "500            1278     1          0.5         1   1       0          54   \n",
            "1837            983     0          0.6         1   0       1          45   \n",
            "941             743     0          0.5         1   0       1          33   \n",
            "421            1178     0          2.2         1   6       0          57   \n",
            "1829           1065     0          1.7         1   4       1          48   \n",
            "\n",
            "      m_dep  mobile_wt  n_cores  ...  px_height  px_width   ram  sc_h  sc_w  \\\n",
            "1572    0.3        164        8  ...        126      1575  3122     7     0   \n",
            "1442    0.5        196        5  ...        105       588  1861    13    10   \n",
            "1516    0.1        101        7  ...         83       816  2456     7     4   \n",
            "259     0.5        162        6  ...        179      1559  3352     9     1   \n",
            "945     0.3         93        6  ...        820      1366  3317     8     0   \n",
            "...     ...        ...      ...  ...        ...       ...   ...   ...   ...   \n",
            "500     0.1        104        8  ...        581       750  1155     7     1   \n",
            "1837    0.1        130        4  ...        948      1205  2052     5     3   \n",
            "941     0.3         95        2  ...       1587      1659   316    19    10   \n",
            "421     0.3         84        3  ...         96      1352  2492    16    14   \n",
            "1829    0.3        162        6  ...       1188      1948   265     8     0   \n",
            "\n",
            "      talk_time  three_g  touch_screen  wifi  price_range  \n",
            "1572          4        0             0     1            2  \n",
            "1442         16        0             1     0            1  \n",
            "1516          7        1             0     0            1  \n",
            "259           3        1             1     1            3  \n",
            "945          19        1             1     0            3  \n",
            "...         ...      ...           ...   ...          ...  \n",
            "500          20        0             0     1            0  \n",
            "1837          6        1             0     1            1  \n",
            "941           4        1             0     0            0  \n",
            "421          10        1             1     0            2  \n",
            "1829         12        1             0     0            0  \n",
            "\n",
            "[1600 rows x 21 columns]\n",
            "1856    0.0\n",
            "364     NaN\n",
            "1948   -2.0\n",
            "1458   -2.0\n",
            "609    -1.0\n",
            "       ... \n",
            "1163   -1.0\n",
            "572     0.0\n",
            "1105    NaN\n",
            "1903   -1.0\n",
            "481     0.0\n",
            "Name: price_range, Length: 400, dtype: float64\n"
          ]
        }
      ]
    },
    {
      "cell_type": "markdown",
      "source": [
        "1.Read the data with pandas and describe the data\n",
        "2.Find data type and shape of each column\n",
        "3.Find the target and features\n",
        "4.Find the null values (if yes fill the null values with ‘0’ or mean of that column)\n",
        "5.Normalize all the features\n",
        "6.Split the data into train and test.\n"
      ],
      "metadata": {
        "id": "btakYWUQkQn3"
      }
    },
    {
      "cell_type": "code",
      "source": [
        "import pandas as pd\n",
        "data=pd.read_csv(\"\")"
      ],
      "metadata": {
        "id": "c0a9q8yikka1"
      },
      "execution_count": null,
      "outputs": []
    }
  ]
}